{
 "cells": [
  {
   "cell_type": "markdown",
   "id": "999c1ea7",
   "metadata": {},
   "source": [
    "# Importing Libraries"
   ]
  },
  {
   "cell_type": "code",
   "execution_count": 1,
   "id": "e256d4bf",
   "metadata": {},
   "outputs": [],
   "source": [
    "import pyqrcode\n",
    "from pyqrcode import QRCode"
   ]
  },
  {
   "cell_type": "markdown",
   "id": "0bb1c4c8",
   "metadata": {},
   "source": [
    "# Taking User Input of Links"
   ]
  },
  {
   "cell_type": "code",
   "execution_count": 2,
   "id": "9e5469c6",
   "metadata": {},
   "outputs": [
    {
     "name": "stdout",
     "output_type": "stream",
     "text": [
      "Enter the Link \n",
      "www.github.com\n"
     ]
    }
   ],
   "source": [
    "LinkToBeConverted = input(\"Enter the Link \\n\")"
   ]
  },
  {
   "cell_type": "markdown",
   "id": "eaa2256c",
   "metadata": {},
   "source": [
    "# Creating a QR"
   ]
  },
  {
   "cell_type": "code",
   "execution_count": 3,
   "id": "ae1687ec",
   "metadata": {},
   "outputs": [],
   "source": [
    "Qr = pyqrcode.create(LinkToBeConverted)"
   ]
  },
  {
   "cell_type": "markdown",
   "id": "a5eb855f",
   "metadata": {},
   "source": [
    "# User defined name of file"
   ]
  },
  {
   "cell_type": "code",
   "execution_count": 4,
   "id": "57da7923",
   "metadata": {},
   "outputs": [
    {
     "name": "stdout",
     "output_type": "stream",
     "text": [
      "Enter the file name \n",
      "GitHub\n"
     ]
    }
   ],
   "source": [
    "file_name = input(\"Enter the file name \\n\")"
   ]
  },
  {
   "cell_type": "markdown",
   "id": "028254f5",
   "metadata": {},
   "source": [
    "# Saving the QR"
   ]
  },
  {
   "cell_type": "code",
   "execution_count": 5,
   "id": "febd43a6",
   "metadata": {},
   "outputs": [],
   "source": [
    "Qr.svg(f'{file_name}.svg',scale = 10)"
   ]
  }
 ],
 "metadata": {
  "kernelspec": {
   "display_name": "Python 3 (ipykernel)",
   "language": "python",
   "name": "python3"
  },
  "language_info": {
   "codemirror_mode": {
    "name": "ipython",
    "version": 3
   },
   "file_extension": ".py",
   "mimetype": "text/x-python",
   "name": "python",
   "nbconvert_exporter": "python",
   "pygments_lexer": "ipython3",
   "version": "3.9.12"
  }
 },
 "nbformat": 4,
 "nbformat_minor": 5
}
